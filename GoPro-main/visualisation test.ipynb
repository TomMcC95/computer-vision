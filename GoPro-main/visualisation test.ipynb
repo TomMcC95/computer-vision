{
 "cells": [
  {
   "cell_type": "code",
   "execution_count": 1,
   "metadata": {},
   "outputs": [],
   "source": [
    "import pandas as pd\n",
    "import matplotlib.pyplot as plt\n",
    "import seaborn as sns\n",
    "import numpy as np"
   ]
  },
  {
   "cell_type": "code",
   "execution_count": 2,
   "metadata": {},
   "outputs": [],
   "source": [
    "df = pd.read_excel('widths_record.xlsx')"
   ]
  },
  {
   "cell_type": "code",
   "execution_count": 3,
   "metadata": {},
   "outputs": [
    {
     "data": {
      "text/html": [
       "<div>\n",
       "<style scoped>\n",
       "    .dataframe tbody tr th:only-of-type {\n",
       "        vertical-align: middle;\n",
       "    }\n",
       "\n",
       "    .dataframe tbody tr th {\n",
       "        vertical-align: top;\n",
       "    }\n",
       "\n",
       "    .dataframe thead th {\n",
       "        text-align: right;\n",
       "    }\n",
       "</style>\n",
       "<table border=\"1\" class=\"dataframe\">\n",
       "  <thead>\n",
       "    <tr style=\"text-align: right;\">\n",
       "      <th></th>\n",
       "      <th>datetime</th>\n",
       "      <th>video_filepath</th>\n",
       "      <th>width_px</th>\n",
       "      <th>area_px</th>\n",
       "      <th>width_mm</th>\n",
       "    </tr>\n",
       "  </thead>\n",
       "  <tbody>\n",
       "    <tr>\n",
       "      <th>0</th>\n",
       "      <td>2022-03-22 09:01:15.547890</td>\n",
       "      <td>C:\\leek-camera-action\\input\\GX010017.mp4</td>\n",
       "      <td>77</td>\n",
       "      <td>58066</td>\n",
       "      <td>20.55</td>\n",
       "    </tr>\n",
       "    <tr>\n",
       "      <th>1</th>\n",
       "      <td>2022-03-22 09:01:17.003123</td>\n",
       "      <td>C:\\leek-camera-action\\input\\GX010017.mp4</td>\n",
       "      <td>109</td>\n",
       "      <td>60450</td>\n",
       "      <td>29.09</td>\n",
       "    </tr>\n",
       "    <tr>\n",
       "      <th>2</th>\n",
       "      <td>2022-03-22 09:01:31.319227</td>\n",
       "      <td>C:\\leek-camera-action\\input\\GX010017.mp4</td>\n",
       "      <td>95</td>\n",
       "      <td>96070</td>\n",
       "      <td>25.35</td>\n",
       "    </tr>\n",
       "    <tr>\n",
       "      <th>3</th>\n",
       "      <td>2022-03-22 09:01:32.068824</td>\n",
       "      <td>C:\\leek-camera-action\\input\\GX010017.mp4</td>\n",
       "      <td>129</td>\n",
       "      <td>93213</td>\n",
       "      <td>34.42</td>\n",
       "    </tr>\n",
       "    <tr>\n",
       "      <th>4</th>\n",
       "      <td>2022-03-22 09:01:33.811178</td>\n",
       "      <td>C:\\leek-camera-action\\input\\GX010017.mp4</td>\n",
       "      <td>119</td>\n",
       "      <td>85363</td>\n",
       "      <td>31.75</td>\n",
       "    </tr>\n",
       "    <tr>\n",
       "      <th>...</th>\n",
       "      <td>...</td>\n",
       "      <td>...</td>\n",
       "      <td>...</td>\n",
       "      <td>...</td>\n",
       "      <td>...</td>\n",
       "    </tr>\n",
       "    <tr>\n",
       "      <th>66</th>\n",
       "      <td>2022-03-22 09:05:53.725079</td>\n",
       "      <td>C:\\leek-camera-action\\input\\GX010017.mp4</td>\n",
       "      <td>134</td>\n",
       "      <td>116119</td>\n",
       "      <td>35.76</td>\n",
       "    </tr>\n",
       "    <tr>\n",
       "      <th>67</th>\n",
       "      <td>2022-03-22 09:05:59.428523</td>\n",
       "      <td>C:\\leek-camera-action\\input\\GX010017.mp4</td>\n",
       "      <td>138</td>\n",
       "      <td>81522</td>\n",
       "      <td>36.82</td>\n",
       "    </tr>\n",
       "    <tr>\n",
       "      <th>68</th>\n",
       "      <td>2022-03-22 09:06:05.006682</td>\n",
       "      <td>C:\\leek-camera-action\\input\\GX010017.mp4</td>\n",
       "      <td>113</td>\n",
       "      <td>80360</td>\n",
       "      <td>30.15</td>\n",
       "    </tr>\n",
       "    <tr>\n",
       "      <th>69</th>\n",
       "      <td>2022-03-22 09:06:06.959353</td>\n",
       "      <td>C:\\leek-camera-action\\input\\GX010017.mp4</td>\n",
       "      <td>136</td>\n",
       "      <td>65985</td>\n",
       "      <td>36.29</td>\n",
       "    </tr>\n",
       "    <tr>\n",
       "      <th>70</th>\n",
       "      <td>2022-03-22 09:06:20.366098</td>\n",
       "      <td>C:\\leek-camera-action\\input\\GX010017.mp4</td>\n",
       "      <td>123</td>\n",
       "      <td>86235</td>\n",
       "      <td>32.82</td>\n",
       "    </tr>\n",
       "  </tbody>\n",
       "</table>\n",
       "<p>71 rows × 5 columns</p>\n",
       "</div>"
      ],
      "text/plain": [
       "                     datetime                            video_filepath  \\\n",
       "0  2022-03-22 09:01:15.547890  C:\\leek-camera-action\\input\\GX010017.mp4   \n",
       "1  2022-03-22 09:01:17.003123  C:\\leek-camera-action\\input\\GX010017.mp4   \n",
       "2  2022-03-22 09:01:31.319227  C:\\leek-camera-action\\input\\GX010017.mp4   \n",
       "3  2022-03-22 09:01:32.068824  C:\\leek-camera-action\\input\\GX010017.mp4   \n",
       "4  2022-03-22 09:01:33.811178  C:\\leek-camera-action\\input\\GX010017.mp4   \n",
       "..                        ...                                       ...   \n",
       "66 2022-03-22 09:05:53.725079  C:\\leek-camera-action\\input\\GX010017.mp4   \n",
       "67 2022-03-22 09:05:59.428523  C:\\leek-camera-action\\input\\GX010017.mp4   \n",
       "68 2022-03-22 09:06:05.006682  C:\\leek-camera-action\\input\\GX010017.mp4   \n",
       "69 2022-03-22 09:06:06.959353  C:\\leek-camera-action\\input\\GX010017.mp4   \n",
       "70 2022-03-22 09:06:20.366098  C:\\leek-camera-action\\input\\GX010017.mp4   \n",
       "\n",
       "    width_px  area_px  width_mm  \n",
       "0         77    58066     20.55  \n",
       "1        109    60450     29.09  \n",
       "2         95    96070     25.35  \n",
       "3        129    93213     34.42  \n",
       "4        119    85363     31.75  \n",
       "..       ...      ...       ...  \n",
       "66       134   116119     35.76  \n",
       "67       138    81522     36.82  \n",
       "68       113    80360     30.15  \n",
       "69       136    65985     36.29  \n",
       "70       123    86235     32.82  \n",
       "\n",
       "[71 rows x 5 columns]"
      ]
     },
     "execution_count": 3,
     "metadata": {},
     "output_type": "execute_result"
    }
   ],
   "source": [
    "df"
   ]
  },
  {
   "cell_type": "code",
   "execution_count": 25,
   "metadata": {},
   "outputs": [
    {
     "data": {
      "image/png": "[encoded data removed]",
      "text/plain": [
       "<Figure size 432x288 with 1 Axes>"
      ]
     },
     "metadata": {
      "needs_background": "light"
     },
     "output_type": "display_data"
    }
   ],
   "source": [
    "start = 0\n",
    "n = 12\n",
    "interval = 5\n",
    "l = np.arange(start, interval * n , interval)\n",
    "p = sns.histplot(data = df, x = 'width_mm', bins=l, stat='probability', kde = True, element='step'),\n",
    "plt.show()"
   ]
  }
 ],
 "metadata": {
  "interpreter": {
   "hash": "c5b322d1f5beaecfb28b050f61b5bc2c682da0c88a01138942a1439f934c1c07"
  },
  "kernelspec": {
   "display_name": "Python 3.9.1 64-bit",
   "language": "python",
   "name": "python3"
  },
  "language_info": {
   "codemirror_mode": {
    "name": "ipython",
    "version": 3
   },
   "file_extension": ".py",
   "mimetype": "text/x-python",
   "name": "python",
   "nbconvert_exporter": "python",
   "pygments_lexer": "ipython3",
   "version": "3.9.1"
  },
  "orig_nbformat": 4
 },
 "nbformat": 4,
 "nbformat_minor": 2
}
